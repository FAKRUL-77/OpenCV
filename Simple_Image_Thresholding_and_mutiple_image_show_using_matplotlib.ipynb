{
 "cells": [
  {
   "cell_type": "markdown",
   "metadata": {},
   "source": [
    "Thresholding is a method of image segmentation, in general it is used to create binary images. Thresholding is of two types namely, simple thresholding and adaptive thresholding.\n",
    "\n",
    "Simple Thresholding\n",
    "In simple thresholding operation the pixels whose values are greater than the specified threshold value, are assigned with a standard value.\n",
    "\n",
    "You can perform simple threshold operation on an image using the method threshold() of the Imgproc class, Following is the syntax of this method."
   ]
  },
  {
   "cell_type": "code",
   "execution_count": 23,
   "metadata": {},
   "outputs": [],
   "source": [
    "import numpy as np\n",
    "from matplotlib import pyplot as plt\n",
    "import cv2 as cv"
   ]
  },
  {
   "cell_type": "code",
   "execution_count": 27,
   "metadata": {},
   "outputs": [
    {
     "data": {
      "image/png": "[encoded data removed]",
      "text/plain": [
       "<Figure size 432x288 with 6 Axes>"
      ]
     },
     "metadata": {},
     "output_type": "display_data"
    }
   ],
   "source": [
    "img = cv.imread('images/gradient.jpg')\n",
    "\n",
    "img = cv.resize(img, (300, 300)) \n",
    "img = cv.cvtColor(img, cv.COLOR_BGR2GRAY)\n",
    "\n",
    "_, th1 = cv.threshold(img, 85, 255, cv.THRESH_BINARY)\n",
    "_, th2 = cv.threshold(img, 170, 255, cv.THRESH_BINARY_INV)\n",
    "_, th3 = cv.threshold(img,  27, 255, cv.THRESH_TRUNC)\n",
    "_, th4 = cv.threshold(img, 127, 255, cv.THRESH_TOZERO)\n",
    "_, th5 = cv.threshold(img, 127, 255, cv.THRESH_TOZERO_INV)\n",
    "\n",
    "\n",
    "cv.imshow(\"image\", img)\n",
    "cv.imshow(\"th1_image\", th1)\n",
    "cv.imshow(\"th2_image\", th2)\n",
    "cv.imshow(\"th3_image\", th3)\n",
    "cv.imshow(\"th4_image\", th4)\n",
    "cv.imshow(\"th5_image\", th5)\n",
    "\n",
    "\n",
    "cv.waitKey(0)\n",
    "cv.destroyAllWindows()\n",
    "\n",
    "\n",
    "\n",
    "\n",
    "## multiple images show using matplotlib\n",
    "\n",
    "titles = ['ORIGINAL IMAGE', 'BINARY', 'BINARY_INV', 'TRUNC', 'TOZERO', 'TOZERO_INV']\n",
    "images = [img, th1, th2, th3, th4, th5]\n",
    "\n",
    "for i in range(6):\n",
    "    plt.subplot(2, 3, i+1), plt.imshow(images[i], \"gray\")\n",
    "    plt.title(titles[i])\n",
    "    plt.xticks([]), plt.yticks([])\n",
    "    \n",
    "plt.show()"
   ]
  },
  {
   "cell_type": "markdown",
   "metadata": {},
   "source": [
    "**_, th1**  \n",
    "thresholding return 2 values  one is ret value and another is thresholded value of an image\n",
    "\n",
    "cv2.threshold(sorce, threshold_value, max_value_of_threshold, threshold_type)  \n",
    "\n",
    "**# plt.subplot(number_of_rows, number_of_columns, index_of_the_image)**"
   ]
  },
  {
   "cell_type": "code",
   "execution_count": null,
   "metadata": {},
   "outputs": [],
   "source": []
  }
 ],
 "metadata": {
  "kernelspec": {
   "display_name": "Python 3",
   "language": "python",
   "name": "python3"
  },
  "language_info": {
   "codemirror_mode": {
    "name": "ipython",
    "version": 3
   },
   "file_extension": ".py",
   "mimetype": "text/x-python",
   "name": "python",
   "nbconvert_exporter": "python",
   "pygments_lexer": "ipython3",
   "version": "3.7.6"
  }
 },
 "nbformat": 4,
 "nbformat_minor": 4
}
