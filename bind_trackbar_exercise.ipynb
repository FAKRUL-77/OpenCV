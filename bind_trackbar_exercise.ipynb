{
 "cells": [
  {
   "cell_type": "code",
   "execution_count": 1,
   "metadata": {},
   "outputs": [],
   "source": [
    "import numpy as np\n",
    "import cv2 as cv"
   ]
  },
  {
   "cell_type": "code",
   "execution_count": 2,
   "metadata": {},
   "outputs": [
    {
     "name": "stdout",
     "output_type": "stream",
     "text": [
      "90\n",
      "98\n",
      "109\n",
      "127\n",
      "145\n",
      "167\n",
      "188\n",
      "206\n",
      "223\n",
      "237\n",
      "243\n",
      "251\n",
      "258\n",
      "264\n",
      "273\n",
      "282\n",
      "288\n",
      "294\n",
      "301\n",
      "308\n",
      "312\n",
      "315\n",
      "318\n",
      "319\n",
      "320\n",
      "321\n",
      "320\n",
      "319\n",
      "314\n",
      "303\n",
      "283\n",
      "263\n",
      "254\n",
      "243\n",
      "237\n",
      "229\n",
      "213\n",
      "196\n",
      "181\n",
      "168\n",
      "153\n",
      "139\n",
      "121\n",
      "106\n",
      "96\n",
      "86\n",
      "77\n",
      "68\n",
      "57\n",
      "48\n",
      "41\n",
      "34\n",
      "30\n",
      "23\n",
      "17\n",
      "12\n",
      "8\n",
      "5\n",
      "0\n",
      "1\n"
     ]
    }
   ],
   "source": [
    "def nothing(x):\n",
    "    print(x)\n",
    "\n",
    "cv.namedWindow('image')\n",
    "\n",
    "cv.createTrackbar('CP', 'image', 10, 400, nothing)\n",
    "switch = 'Color/Gray'\n",
    "cv.createTrackbar(switch, 'image', 0, 1, nothing)\n",
    "\n",
    "while(1):\n",
    "    img = cv.imread('images/test.png')\n",
    "    \n",
    "    \n",
    "    pos = cv.getTrackbarPos('CP', 'image')\n",
    "    font = cv.FONT_HERSHEY_SIMPLEX\n",
    "    cv.putText(img, str(pos), (50, 150), font, 4, (0, 0, 255), 5)\n",
    "    \n",
    "    k = cv.waitKey(1) & 0xFF\n",
    "    \n",
    "    if k == 27:\n",
    "        break\n",
    "    \n",
    "    s = cv.getTrackbarPos(switch, 'image')\n",
    "    \n",
    "    if s == 0:\n",
    "            pass\n",
    "    else:\n",
    "        img = cv.cvtColor(img, cv.COLOR_BGR2GRAY)\n",
    "    \n",
    "    img = cv.imshow('image', img)\n",
    "        \n",
    "cv.destroyAllWindows()"
   ]
  },
  {
   "cell_type": "code",
   "execution_count": null,
   "metadata": {},
   "outputs": [],
   "source": []
  },
  {
   "cell_type": "code",
   "execution_count": null,
   "metadata": {},
   "outputs": [],
   "source": []
  }
 ],
 "metadata": {
  "kernelspec": {
   "display_name": "Python 3",
   "language": "python",
   "name": "python3"
  },
  "language_info": {
   "codemirror_mode": {
    "name": "ipython",
    "version": 3
   },
   "file_extension": ".py",
   "mimetype": "text/x-python",
   "name": "python",
   "nbconvert_exporter": "python",
   "pygments_lexer": "ipython3",
   "version": "3.7.6"
  }
 },
 "nbformat": 4,
 "nbformat_minor": 4
}
