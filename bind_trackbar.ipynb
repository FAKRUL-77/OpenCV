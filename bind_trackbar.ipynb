{
 "cells": [
  {
   "cell_type": "code",
   "execution_count": 2,
   "metadata": {},
   "outputs": [],
   "source": [
    "import numpy as np\n",
    "import cv2"
   ]
  },
  {
   "cell_type": "code",
   "execution_count": 3,
   "metadata": {},
   "outputs": [
    {
     "name": "stdout",
     "output_type": "stream",
     "text": [
      "(300, 512, 3)\n"
     ]
    }
   ],
   "source": [
    "def nothing(x):\n",
    "    print(x)\n",
    "\n",
    "img = np.zeros((300, 512, 3), np.uint8)\n",
    "print(img[:].shape)\n",
    "cv2.namedWindow('image')\n",
    "\n",
    "switch = '0 : OFF\\n 1 : ON'\n",
    "\n",
    "\n",
    "cv2.createTrackbar('B', 'image', 0, 255, nothing)\n",
    "cv2.createTrackbar('G', 'image', 0, 255, nothing)\n",
    "cv2.createTrackbar('R', 'image', 0, 255, nothing)\n",
    "cv2.createTrackbar(switch, 'image', 0, 1, nothing)\n",
    "\n",
    "while(1):\n",
    "    cv2.imshow('image', img)\n",
    "    k = cv2.waitKey(1) & 0xFF\n",
    "    if k == 27:\n",
    "        break\n",
    "        \n",
    "    b = cv2.getTrackbarPos('B', 'image')\n",
    "    g = cv2.getTrackbarPos('G', 'image')\n",
    "    r = cv2.getTrackbarPos('R', 'image')\n",
    "    s = cv2.getTrackbarPos(switch, 'image')\n",
    "    \n",
    "    if s == 0:\n",
    "            img[:] = 0\n",
    "    else:\n",
    "        img[:100] = [g, b, r]\n",
    "        img[101:200] = [r, g, b]\n",
    "        img[201:300] = [b, g, r]\n",
    "        \n",
    "cv2.destroyAllWindows()"
   ]
  },
  {
   "cell_type": "markdown",
   "metadata": {},
   "source": [
    "**# cv2.createTrackbar('Trackbar_name', 'frame_name', initial_value, final_value, callBack_function)**\n",
    "\n",
    "**# cv2.getTrackbarPos('trackerName', 'frameName')**"
   ]
  },
  {
   "cell_type": "code",
   "execution_count": 2,
   "metadata": {},
   "outputs": [
    {
     "ename": "NameError",
     "evalue": "name 'cv2' is not defined",
     "output_type": "error",
     "traceback": [
      "\u001b[1;31m---------------------------------------------------------------------------\u001b[0m",
      "\u001b[1;31mNameError\u001b[0m                                 Traceback (most recent call last)",
      "\u001b[1;32m<ipython-input-2-b515d03d3bf5>\u001b[0m in \u001b[0;36m<module>\u001b[1;34m\u001b[0m\n\u001b[0;32m      2\u001b[0m     \u001b[0mprint\u001b[0m\u001b[1;33m(\u001b[0m\u001b[0mx\u001b[0m\u001b[1;33m)\u001b[0m\u001b[1;33m\u001b[0m\u001b[1;33m\u001b[0m\u001b[0m\n\u001b[0;32m      3\u001b[0m \u001b[1;33m\u001b[0m\u001b[0m\n\u001b[1;32m----> 4\u001b[1;33m \u001b[0mimg1\u001b[0m \u001b[1;33m=\u001b[0m \u001b[0mcv2\u001b[0m\u001b[1;33m.\u001b[0m\u001b[0mimread\u001b[0m\u001b[1;33m(\u001b[0m\u001b[1;34m'fakrul.png'\u001b[0m\u001b[1;33m)\u001b[0m\u001b[1;33m\u001b[0m\u001b[1;33m\u001b[0m\u001b[0m\n\u001b[0m\u001b[0;32m      5\u001b[0m \u001b[0mcv2\u001b[0m\u001b[1;33m.\u001b[0m\u001b[0mnamedWindow\u001b[0m\u001b[1;33m(\u001b[0m\u001b[1;34m'image1'\u001b[0m\u001b[1;33m)\u001b[0m\u001b[1;33m\u001b[0m\u001b[1;33m\u001b[0m\u001b[0m\n\u001b[0;32m      6\u001b[0m \u001b[1;33m\u001b[0m\u001b[0m\n",
      "\u001b[1;31mNameError\u001b[0m: name 'cv2' is not defined"
     ]
    }
   ],
   "source": [
    "def nothing(x):\n",
    "    print(x)\n",
    "\n",
    "img1 = cv2.imread('images/fakrul.png')\n",
    "cv2.namedWindow('image1')\n",
    "\n",
    "switch = 'Color/Gray'\n",
    "\n",
    "cv2.createTrackbar('CP', 'image1', 10, 400, nothing)\n",
    "cv2.createTrackbar(switch, 'image1', 0, 1, nothing)\n",
    "\n",
    "while(1):\n",
    "    img1 = cv2.imshow('image1', img1)\n",
    "    pos = cv2.getTrackbarPos('CP', 'image1')\n",
    "    \n",
    "    font = cv2.FONT_HERSHEY_SIMPLEX\n",
    "    cv2.putText(img1, str(pos), (50, 150), font, 4, (0, 0, 255))\n",
    "    \n",
    "    k = cv2.waitKey(1) & 0xFF\n",
    "    if k == 27:\n",
    "        break\n",
    "    \n",
    "    s = cv2.getTrackbarPos(switch, 'image1')\n",
    "    \n",
    "    if s == 0:\n",
    "            pass\n",
    "    else:\n",
    "        img1 = cv2.cvtColor(img1, cv2.COLOR_BGR2GRAY)\n",
    "        \n",
    "cv2.destroyAllWindows()"
   ]
  },
  {
   "cell_type": "code",
   "execution_count": null,
   "metadata": {},
   "outputs": [],
   "source": []
  }
 ],
 "metadata": {
  "kernelspec": {
   "display_name": "Python 3",
   "language": "python",
   "name": "python3"
  },
  "language_info": {
   "codemirror_mode": {
    "name": "ipython",
    "version": 3
   },
   "file_extension": ".py",
   "mimetype": "text/x-python",
   "name": "python",
   "nbconvert_exporter": "python",
   "pygments_lexer": "ipython3",
   "version": "3.7.6"
  }
 },
 "nbformat": 4,
 "nbformat_minor": 4
}
