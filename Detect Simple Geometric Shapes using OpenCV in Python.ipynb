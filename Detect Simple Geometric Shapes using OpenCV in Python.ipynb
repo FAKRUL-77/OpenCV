{
 "cells": [
  {
   "cell_type": "code",
   "execution_count": 27,
   "metadata": {},
   "outputs": [],
   "source": [
    "import cv2 as cv\n",
    "from matplotlib import pyplot as plt\n",
    "import numpy as np"
   ]
  },
  {
   "cell_type": "code",
   "execution_count": 33,
   "metadata": {},
   "outputs": [
    {
     "name": "stdout",
     "output_type": "stream",
     "text": [
      "1.4070450097847358\n",
      "1.4070450097847358\n",
      "1.5660377358490567\n",
      "1.5660377358490567\n",
      "0.9389671361502347\n",
      "0.9389671361502347\n"
     ]
    }
   ],
   "source": [
    "img  = cv.imread('images/shape1.jpg')\n",
    "g_img = cv.cvtColor(img, cv.COLOR_BGR2GRAY)\n",
    "img = cv.resize(img, (720, 512))\n",
    "g_img = cv.resize(g_img, (720, 512))\n",
    "\n",
    "_, thresh = cv.threshold(g_img, 240, 255, cv.THRESH_BINARY)\n",
    "contours, _ = cv.findContours(thresh, cv.RETR_TREE, cv.CHAIN_APPROX_NONE)\n",
    "\n",
    "for contour in contours:\n",
    "    approx = cv.approxPolyDP(contour, 0.01*cv.arcLength(contour, True), True)\n",
    "    cv.drawContours(g_img, [approx], 0, (0, 255, 0), 5)\n",
    "    \n",
    "    x = approx.ravel()[0]\n",
    "    y = approx.ravel()[1]\n",
    "    \n",
    "    if len(approx) == 3:\n",
    "        cv.putText(img, 'Triangle', (x, y), cv.FONT_HERSHEY_COMPLEX, .5, (0, 0, 255), 2)\n",
    "    \n",
    "    elif len(approx) == 4:\n",
    "        x, y, w, h = cv.boundingRect(approx)\n",
    "        aspectRatio = float(w)/h\n",
    "        print(aspectRatio)\n",
    "        \n",
    "        if aspectRatio >= 0.90 and aspectRatio <= 1.10:\n",
    "             print(aspectRatio)\n",
    "             cv.putText(img, 'Square', (x, y), cv.FONT_HERSHEY_COMPLEX, .5, (0, 0, 255), 2)\n",
    "        else:\n",
    "             print(aspectRatio)\n",
    "             cv.putText(img, 'Rectangle', (x, y), cv.FONT_HERSHEY_COMPLEX, .5, (0, 0, 255), 2)\n",
    "        \n",
    "    elif len(approx) == 5:\n",
    "        cv.putText(img, 'Pentagon', (x, y), cv.FONT_HERSHEY_COMPLEX, .5, (0, 0, 255), 2)\n",
    "        \n",
    "    elif len(approx) == 10:\n",
    "        cv.putText(img, 'Star', (x, y), cv.FONT_HERSHEY_COMPLEX, .5, (0, 0, 255), 2)\n",
    "    else:\n",
    "        cv.putText(img, 'Circle', (x, y), cv.FONT_HERSHEY_COMPLEX, .5, (0, 0, 255), 2)\n",
    "\n",
    "cv.imshow('shape', img)\n",
    "cv.imshow('g_shape', g_img)\n",
    "cv.waitKey(0)\n",
    "cv.destroyAllWindows()"
   ]
  },
  {
   "cell_type": "markdown",
   "metadata": {},
   "source": []
  }
 ],
 "metadata": {
  "kernelspec": {
   "display_name": "Python 3",
   "language": "python",
   "name": "python3"
  },
  "language_info": {
   "codemirror_mode": {
    "name": "ipython",
    "version": 3
   },
   "file_extension": ".py",
   "mimetype": "text/x-python",
   "name": "python",
   "nbconvert_exporter": "python",
   "pygments_lexer": "ipython3",
   "version": "3.7.6"
  }
 },
 "nbformat": 4,
 "nbformat_minor": 4
}
