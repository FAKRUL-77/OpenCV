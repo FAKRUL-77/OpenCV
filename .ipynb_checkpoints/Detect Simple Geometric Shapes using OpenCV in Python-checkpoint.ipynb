{
 "cells": [
  {
   "cell_type": "code",
   "execution_count": 11,
   "metadata": {},
   "outputs": [],
   "source": [
    "import cv2 as cv\n",
    "from matplotlib import pyplot as plt\n",
    "import numpy as np"
   ]
  },
  {
   "cell_type": "code",
   "execution_count": 16,
   "metadata": {},
   "outputs": [],
   "source": [
    "img  = cv.imread('images/shape1.jpg')\n",
    "g_img = cv.cvtColor(img, cv.COLOR_BGR2GRAY)\n",
    "img = cv.resize(img, (720, 512))\n",
    "g_img = cv.resize(g_img, (720, 512))\n",
    "\n",
    "_, thresh = cv.threshold(g_img, 240, 255, cv.THRESH_BINARY)\n",
    "contours, _ = cv.findContours(thresh, cv.RETR_TREE, cv.CHAIN_APPROX_NONE)\n",
    "\n",
    "for contour in contours:\n",
    "#     cv.drawContours(g_img, [contour], 0, (0), 5)\n",
    "\n",
    "cv.imshow('shape', img)\n",
    "cv.imshow('g_shape', g_img)\n",
    "cv.waitKey(0)\n",
    "cv.destroyAllWindows()"
   ]
  },
  {
   "cell_type": "markdown",
   "metadata": {},
   "source": []
  }
 ],
 "metadata": {
  "kernelspec": {
   "display_name": "Python 3",
   "language": "python",
   "name": "python3"
  },
  "language_info": {
   "codemirror_mode": {
    "name": "ipython",
    "version": 3
   },
   "file_extension": ".py",
   "mimetype": "text/x-python",
   "name": "python",
   "nbconvert_exporter": "python",
   "pygments_lexer": "ipython3",
   "version": "3.7.6"
  }
 },
 "nbformat": 4,
 "nbformat_minor": 4
}
