{
 "cells": [
  {
   "cell_type": "code",
   "execution_count": 1,
   "metadata": {},
   "outputs": [],
   "source": [
    "import numpy as np\n",
    "import cv2"
   ]
  },
  {
   "cell_type": "markdown",
   "metadata": {},
   "source": [
    "**List of All events of cv2 package:**"
   ]
  },
  {
   "cell_type": "code",
   "execution_count": 2,
   "metadata": {},
   "outputs": [
    {
     "name": "stdout",
     "output_type": "stream",
     "text": [
      "['EVENT_FLAG_ALTKEY', 'EVENT_FLAG_CTRLKEY', 'EVENT_FLAG_LBUTTON', 'EVENT_FLAG_MBUTTON', 'EVENT_FLAG_RBUTTON', 'EVENT_FLAG_SHIFTKEY', 'EVENT_LBUTTONDBLCLK', 'EVENT_LBUTTONDOWN', 'EVENT_LBUTTONUP', 'EVENT_MBUTTONDBLCLK', 'EVENT_MBUTTONDOWN', 'EVENT_MBUTTONUP', 'EVENT_MOUSEHWHEEL', 'EVENT_MOUSEMOVE', 'EVENT_MOUSEWHEEL', 'EVENT_RBUTTONDBLCLK', 'EVENT_RBUTTONDOWN', 'EVENT_RBUTTONUP']\n"
     ]
    }
   ],
   "source": [
    "events = [i for i in dir(cv2) if 'EVENT' in i]\n",
    "print(events)"
   ]
  },
  {
   "cell_type": "code",
   "execution_count": 13,
   "metadata": {},
   "outputs": [
    {
     "name": "stdout",
     "output_type": "stream",
     "text": [
      "63 , 134\n",
      "60 , 243\n",
      "431 , 73\n",
      "431 , 74\n"
     ]
    }
   ],
   "source": [
    "def click_event(event, x, y, flags, param):\n",
    "    if event == cv2.EVENT_LBUTTONDOWN:\n",
    "        print(x, ',', y)\n",
    "        font = cv2.FONT_HERSHEY_SIMPLEX\n",
    "        strBGR = str(x) + ', '+ str(y)\n",
    "        cv2.putText(img, strBGR, (x, y), font, .5, (255, 255, 0), 2)\n",
    "        cv2.imshow('image', img)\n",
    "        \n",
    "    if event == cv2.EVENT_RBUTTONDOWN:\n",
    "        blue = img[y, x, 0]\n",
    "        green = img[y, x, 1]\n",
    "        red = img[y, x, 2]\n",
    "        font = cv2.FONT_HERSHEY_SIMPLEX\n",
    "        strXY = str(blue) + ', '+ str(green) + ', '+ str(red)\n",
    "        cv2.putText(img, strXY, (x, y), font, .5, (0, 255, 255), 1)\n",
    "        cv2.imshow('image', img)\n",
    "        \n",
    "#img = np.zeros((512, 512, 3), np.uint8)\n",
    "img = cv2.imread('images/fakrul.png')\n",
    "cv2.imshow('image', img)\n",
    "\n",
    "cv2.setMouseCallback('image', click_event)\n",
    "\n",
    "cv2.waitKey(0)\n",
    "cv2.destroyAllWindows()"
   ]
  },
  {
   "cell_type": "markdown",
   "metadata": {},
   "source": [
    "**# np.zeros(image_size, data_type)**\n",
    "\n",
    "**# cv2.line(img, starting coordinate, ending coordinate, color_with_bgr_format, thickness)**\n",
    "\n",
    "**# cv2.arrowedLine(img, starting coordinate, ending coordinate, color_with_bgr_format, thickness)**\n",
    "\n",
    "**# cv2.rectangle(img, pt1, pt2, color_with_bgr_format, thickness, line_type, shift)**\n",
    "\n",
    "**# cv2.circle(img, center, radius, color, thickness)** \n",
    "\n",
    "**# cv2.putText(img, text, org, fontFace, font_size, font_color, thickness, lineType)**"
   ]
  },
  {
   "cell_type": "code",
   "execution_count": null,
   "metadata": {},
   "outputs": [],
   "source": [
    "n = np.random.randint(low=1, high=100, size=1)"
   ]
  }
 ],
 "metadata": {
  "kernelspec": {
   "display_name": "Python 3",
   "language": "python",
   "name": "python3"
  },
  "language_info": {
   "codemirror_mode": {
    "name": "ipython",
    "version": 3
   },
   "file_extension": ".py",
   "mimetype": "text/x-python",
   "name": "python",
   "nbconvert_exporter": "python",
   "pygments_lexer": "ipython3",
   "version": "3.7.6"
  }
 },
 "nbformat": 4,
 "nbformat_minor": 4
}
