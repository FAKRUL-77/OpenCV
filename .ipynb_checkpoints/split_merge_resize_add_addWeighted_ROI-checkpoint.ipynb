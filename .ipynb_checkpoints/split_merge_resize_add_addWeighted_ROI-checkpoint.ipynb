{
 "cells": [
  {
   "cell_type": "code",
   "execution_count": 24,
   "metadata": {},
   "outputs": [],
   "source": [
    "import numpy as np\n",
    "import cv2"
   ]
  },
  {
   "cell_type": "code",
   "execution_count": 41,
   "metadata": {},
   "outputs": [
    {
     "name": "stdout",
     "output_type": "stream",
     "text": [
      "(960, 618, 3)\n",
      "1779840\n",
      "uint8\n"
     ]
    }
   ],
   "source": [
    "img = cv2.imread('images/fakrul.png')\n",
    "img2 = cv2.imread('images/background.jpg')\n",
    "\n",
    "print(img.shape)\n",
    "print(img.size)\n",
    "print(img.dtype)\n",
    "\n",
    "b, g, r = cv2.split(img)\n",
    "img = cv2.merge((b,g,r))\n",
    "\n",
    "# c = img[124:333, 226:453]   ## region of interest operation\n",
    "# img[124:333, 26:253] = c    ## region of interest operation\n",
    "\n",
    "img = cv2.resize(img, (512, 512))     ## image resize(row, column)\n",
    "img2 = cv2.resize(img2, (512, 512))   ## image resize(row, column)\n",
    "\n",
    "# dst = cv2.add(img, img2);   ## for add 2 image\n",
    "\n",
    "dst = cv2.addWeighted(img, .9, img2, .1, 0)\n",
    "\n",
    "cv2.imshow('image', dst)\n",
    "cv2.waitKey(0)\n",
    "cv2.destroyAllWindows()"
   ]
  },
  {
   "cell_type": "markdown",
   "metadata": {},
   "source": [
    "**# img.shape returns a touple of number of rows, columns and channels**\n",
    "\n",
    "**# img.size returns total number of pixels is accessed** \n",
    "\n",
    "**# img.dtype returns image datatype** \n",
    "\n",
    "## ROI -->region of interest\n",
    "**# c = img[ y1:y2, x1:x2 ]**\n",
    "\n",
    "# Formula of use addWeighted method:\n",
    "**# dst(I) = saturate(src1(I) * alpha + src2(I) * beta + gamma)**\n",
    "\n",
    "**# addWeighted(src1, alpha, src2, beta, gamma)**\n"
   ]
  },
  {
   "cell_type": "code",
   "execution_count": null,
   "metadata": {},
   "outputs": [],
   "source": []
  }
 ],
 "metadata": {
  "kernelspec": {
   "display_name": "Python 3",
   "language": "python",
   "name": "python3"
  },
  "language_info": {
   "codemirror_mode": {
    "name": "ipython",
    "version": 3
   },
   "file_extension": ".py",
   "mimetype": "text/x-python",
   "name": "python",
   "nbconvert_exporter": "python",
   "pygments_lexer": "ipython3",
   "version": "3.7.6"
  }
 },
 "nbformat": 4,
 "nbformat_minor": 4
}
