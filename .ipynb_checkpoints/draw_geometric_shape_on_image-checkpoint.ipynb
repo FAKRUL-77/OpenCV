{
 "cells": [
  {
   "cell_type": "code",
   "execution_count": 33,
   "metadata": {},
   "outputs": [],
   "source": [
    "import cv2\n",
    "import numpy as np"
   ]
  },
  {
   "cell_type": "code",
   "execution_count": 34,
   "metadata": {},
   "outputs": [],
   "source": [
    "#img = cv2.imread('images/fakrul.png', 1)\n",
    "\n",
    "# Create image using numpy zero method\n",
    "img = np.zeros([512,512,3], np.uint8)\n",
    "\n",
    "\n",
    "#img = cv2.line(img, (0,0), (255,255), (255, 300, 200), 2)\n",
    "img = cv2.arrowedLine(img, (0,255), (255,255), (255, 300, 200), 2)\n",
    "img = cv2.rectangle(img, (284, 0), (510,128), (255, 300, 200), 3)\n",
    "img = cv2.circle(img, (447, 63), 63, (0, 255, 0), -1)\n",
    "font = cv2.FONT_HERSHEY_SIMPLEX\n",
    "img = cv2.putText(img, 'Fakrul', (10, 500), font, 4, (0, 255, 255), 4, cv2.LINE_AA)\n",
    "cv2.imshow('image', img)\n",
    "cv2.waitKey(0)\n",
    "cv2.destroyAllWindows()"
   ]
  },
  {
   "cell_type": "markdown",
   "metadata": {},
   "source": [
    "**# cv2.line(img, starting coordinate, ending coordinate, color_with_bgr_format, thickness)**\n",
    "\n",
    "**# cv2.arrowedLine(img, starting coordinate, ending coordinate, color_with_bgr_format, thickness)**\n",
    "\n",
    "**# cv2.rectangle(img, pt1, pt2, color_with_bgr_format, thickness, line_type, shift)**\n",
    "\n",
    "**# cv2.circle(img, center, radius, color, thickness)** \n",
    "\n",
    "**# cv2.putText(img, text, org, fontFace, font_size, font_color, thickness, lineType)**\n",
    "\n",
    "**## create numpy image:- **img = np.zeros(image_size, data_type)**\n",
    "\n",
    "if we provide thickness is -1 then we get the filled rectangle"
   ]
  },
  {
   "cell_type": "code",
   "execution_count": null,
   "metadata": {},
   "outputs": [],
   "source": []
  }
 ],
 "metadata": {
  "kernelspec": {
   "display_name": "Python 3",
   "language": "python",
   "name": "python3"
  },
  "language_info": {
   "codemirror_mode": {
    "name": "ipython",
    "version": 3
   },
   "file_extension": ".py",
   "mimetype": "text/x-python",
   "name": "python",
   "nbconvert_exporter": "python",
   "pygments_lexer": "ipython3",
   "version": "3.7.6"
  }
 },
 "nbformat": 4,
 "nbformat_minor": 4
}
